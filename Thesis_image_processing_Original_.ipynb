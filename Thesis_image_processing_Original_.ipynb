{
  "nbformat": 4,
  "nbformat_minor": 0,
  "metadata": {
    "colab": {
      "provenance": [],
      "include_colab_link": true
    },
    "kernelspec": {
      "name": "python3",
      "display_name": "Python 3"
    },
    "accelerator": "GPU"
  },
  "cells": [
    {
      "cell_type": "markdown",
      "metadata": {
        "id": "view-in-github",
        "colab_type": "text"
      },
      "source": [
        "<a href=\"https://colab.research.google.com/github/itsmahadi007/AI/blob/master/Thesis_image_processing_Original_.ipynb\" target=\"_parent\"><img src=\"https://colab.research.google.com/assets/colab-badge.svg\" alt=\"Open In Colab\"/></a>"
      ]
    },
    {
      "cell_type": "markdown",
      "metadata": {
        "id": "4_bjSDrhgULS"
      },
      "source": []
    },
    {
      "cell_type": "markdown",
      "metadata": {
        "id": "VEspAWZ4cnkA"
      },
      "source": [
        "Data Pre-processing"
      ]
    },
    {
      "cell_type": "code",
      "metadata": {
        "id": "OxKxqaINXxu5",
        "colab": {
          "base_uri": "https://localhost:8080/"
        },
        "outputId": "54ca5244-6609-4400-f5ab-6599a4a81265"
      },
      "source": [
        "%tensorflow_version 2.x\n",
        "import tensorflow\n",
        "import numpy as np\n",
        "import matplotlib.pyplot as plt"
      ],
      "execution_count": null,
      "outputs": [
        {
          "output_type": "stream",
          "name": "stdout",
          "text": [
            "Colab only includes TensorFlow 2.x; %tensorflow_version has no effect.\n"
          ]
        }
      ]
    },
    {
      "cell_type": "code",
      "metadata": {
        "id": "VMsN_6sqX81K",
        "colab": {
          "base_uri": "https://localhost:8080/"
        },
        "outputId": "5f05a7d1-f161-4af4-ec6a-a97c09486724"
      },
      "source": [
        "'getting access to drive'\n",
        "from google.colab import drive\n",
        "drive.mount(\"/content/drive\")"
      ],
      "execution_count": null,
      "outputs": [
        {
          "output_type": "stream",
          "name": "stdout",
          "text": [
            "Mounted at /content/drive\n"
          ]
        }
      ]
    },
    {
      "cell_type": "code",
      "metadata": {
        "id": "_4oA7XV3YTSp"
      },
      "source": [
        "'Extracting data'\n",
        "!unzip -qq '/content/drive/MyDrive/Colab Notebooks/Datasets/DataSetNew.zip'\n"
      ],
      "execution_count": null,
      "outputs": []
    },
    {
      "cell_type": "code",
      "metadata": {
        "id": "kpZUyRx9Y6dq",
        "colab": {
          "base_uri": "https://localhost:8080/"
        },
        "outputId": "b24bd2f0-9344-424b-dc30-e45bc4c4b58d"
      },
      "source": [
        "from PIL import Image\n",
        "from pathlib import Path\n",
        "'Variables for train data'\n",
        "trainData = []\n",
        "train_y = []\n",
        "\n",
        "'Variables for test data'\n",
        "testData = []\n",
        "test_y = []\n",
        "\n",
        "'For lebel taking there name'\n",
        "vehicles = ['bus', 'car', 'cng', 'truck', 'rickshaw']\n",
        "\n",
        "'Getting all the data from the data set'\n",
        "for target, vehicle in enumerate(vehicles):\n",
        "    for path in Path('/content/DataSetNew/Classification/Side/Train/%s' %(vehicle)).rglob('*.jpg'):\n",
        "        image = np.array(Image.open(path).resize((60, 60))) #geting all the image from that dir and converting them into 60 / 60 image . i reshape it after seeing the minimum size from the image below.\n",
        "        train_y.append(target)\n",
        "        trainData.append(image)\n",
        "\n",
        "    for path in Path('/content/DataSetNew/Classification/Side/Test/%s' %(vehicle)).rglob('*.jpg'):\n",
        "        image = np.array(Image.open(path).resize((60, 60)))\n",
        "        test_y.append(target)\n",
        "        testData.append(image)\n",
        "\n",
        "    for path in Path('/content/DataSetNew/Classification/Top/Train/%s' %(vehicle)).rglob('*.jpg'):\n",
        "        image = np.array(Image.open(path).resize((60, 60)))\n",
        "        train_y.append(target)\n",
        "        trainData.append(image)\n",
        "\n",
        "    for path in Path('/content/DataSetNew/Classification/Top/Test/%s' %(vehicle)).rglob('*.jpg'):\n",
        "        image = np.array(Image.open(path).resize((60, 60)))\n",
        "        test_y.append(target)\n",
        "        testData.append(image)\n",
        "\n",
        "'Converting array into numpy array because transorflow only aceept numpy array and tensor file'\n",
        "trainData = np.array(trainData)\n",
        "testData = np.array(testData)\n",
        "train_y = np.array(train_y)\n",
        "test_y = np.array(test_y)\n",
        "\n",
        "print('Number of train data', len(trainData))\n",
        "print('Number of test data', len(testData))"
      ],
      "execution_count": null,
      "outputs": [
        {
          "output_type": "stream",
          "name": "stdout",
          "text": [
            "Number of train data 3301\n",
            "Number of test data 673\n"
          ]
        }
      ]
    },
    {
      "cell_type": "code",
      "metadata": {
        "id": "9N2z5Jv0ZJAH",
        "colab": {
          "base_uri": "https://localhost:8080/",
          "height": 285
        },
        "outputId": "4743f6c7-feb5-4ad3-941f-c1a0d3a330ff"
      },
      "source": [
        "plt.imshow(trainData[1500])"
      ],
      "execution_count": null,
      "outputs": [
        {
          "output_type": "execute_result",
          "data": {
            "text/plain": [
              "<matplotlib.image.AxesImage at 0x7fbe6e3dad00>"
            ]
          },
          "metadata": {},
          "execution_count": 22
        },
        {
          "output_type": "display_data",
          "data": {
            "text/plain": [
              "<Figure size 432x288 with 1 Axes>"
            ],
            "image/png": "[encoded data removed]"
          },
          "metadata": {
            "needs_background": "light"
          }
        }
      ]
    },
    {
      "cell_type": "code",
      "metadata": {
        "id": "Eu_q8ne_ZkLK",
        "colab": {
          "base_uri": "https://localhost:8080/",
          "height": 285
        },
        "outputId": "55bae133-1368-4b56-aec9-e6b6e6a941ba"
      },
      "source": [
        "'Vewing any image as i choose to see'\n",
        "\n",
        "\n",
        "plt.imshow(testData[600])\n",
        "plt.colorbar()"
      ],
      "execution_count": null,
      "outputs": [
        {
          "output_type": "execute_result",
          "data": {
            "text/plain": [
              "<matplotlib.colorbar.Colorbar at 0x7fbee4dff100>"
            ]
          },
          "metadata": {},
          "execution_count": 6
        },
        {
          "output_type": "display_data",
          "data": {
            "text/plain": [
              "<Figure size 432x288 with 2 Axes>"
            ],
            "image/png": "[encoded data removed]"
          },
          "metadata": {
            "needs_background": "light"
          }
        }
      ]
    },
    {
      "cell_type": "code",
      "metadata": {
        "id": "5uZ-uhsUcNqo",
        "colab": {
          "base_uri": "https://localhost:8080/"
        },
        "outputId": "2021f1a6-c79c-466d-d033-5851918daed3"
      },
      "source": [
        "'Checking the minimum image size'\n",
        "minr, minc = np.inf, np.inf\n",
        "\n",
        "for img in trainData:\n",
        "    minr = min(minr, img.shape[0])\n",
        "    minc = min(minc, img.shape[1])\n",
        "\n",
        "print(minr, minc)"
      ],
      "execution_count": null,
      "outputs": [
        {
          "output_type": "stream",
          "name": "stdout",
          "text": [
            "60 60\n"
          ]
        }
      ]
    },
    {
      "cell_type": "code",
      "metadata": {
        "id": "3_NC-jpBbTRx",
        "colab": {
          "base_uri": "https://localhost:8080/"
        },
        "outputId": "86b9ca2f-ff84-400b-a4d3-33534225dbef"
      },
      "source": [
        "print(trainData[110].shape)"
      ],
      "execution_count": null,
      "outputs": [
        {
          "output_type": "stream",
          "name": "stdout",
          "text": [
            "(60, 60, 3)\n"
          ]
        }
      ]
    },
    {
      "cell_type": "markdown",
      "metadata": {
        "id": "TpHecEKZctc_"
      },
      "source": [
        "Building Keras Model\n",
        "\n",
        "![alt text](https://www.researchgate.net/profile/Maher_Al-Zuhairi/publication/325115367/figure/fig1/AS:631428412878849@1527555673821/The-typical-CNN-model-architecture.png)\n",
        "\n",
        "We will use famous image classification architectures given in the [link](https://keras.io/applications/)\n",
        "\n"
      ]
    },
    {
      "cell_type": "code",
      "metadata": {
        "id": "00Ct4IehcWVe"
      },
      "source": [
        "from tensorflow.keras.applications.mobilenet import MobileNet\n",
        "from tensorflow.keras import Sequential\n",
        "from tensorflow.keras.layers import Dense, Flatten\n",
        "\n",
        "def model1():\n",
        "    'Creating a Sequential model'\n",
        "    model = Sequential()\n",
        "\n",
        "    'Adding MobileNet V1 layers'\n",
        "    model.add(MobileNet(input_shape=(60, 60, 3), include_top=False))\n",
        "\n",
        "    'Flat the image'\n",
        "    model.add(Flatten())\n",
        "\n",
        "    'Adding Dense layer'\n",
        "    model.add(Dense(128, activation='relu'))\n",
        "    model.add(Dense(64, activation='relu'))\n",
        "    model.add(Dense(32, activation='relu'))\n",
        "\n",
        "    'Adding SoftMax layer'\n",
        "    model.add(Dense(5, activation='softmax'))\n",
        "\n",
        "    model.compile(optimizer='adam',\n",
        "                  loss='categorical_crossentropy',\n",
        "                  metrics=['acc'])\n",
        "\n",
        "    return model"
      ],
      "execution_count": null,
      "outputs": []
    },
    {
      "cell_type": "code",
      "metadata": {
        "id": "cLycJ_FIjRqL"
      },
      "source": [
        "from tensorflow.keras.utils import to_categorical\n",
        "\n",
        "y_train = to_categorical(train_y)\n",
        "y_test = to_categorical(test_y)"
      ],
      "execution_count": null,
      "outputs": []
    },
    {
      "cell_type": "markdown",
      "metadata": {
        "id": "XLulWcydtt8H"
      },
      "source": [
        "One Hot Encoding\n",
        "\n",
        "![alt text](https://miro.medium.com/max/2736/0*T5jaa2othYfXZX9W.)"
      ]
    },
    {
      "cell_type": "code",
      "metadata": {
        "id": "u-sJrwGns96W",
        "colab": {
          "base_uri": "https://localhost:8080/"
        },
        "outputId": "12c8735f-ad14-490f-9371-734c022cb82c"
      },
      "source": [
        "print('Before one-hot-encoding')\n",
        "print(train_y[620:630], end='\\n\\n')\n",
        "\n",
        "print('After one-hot-encoding')\n",
        "print(y_train[620:630])"
      ],
      "execution_count": null,
      "outputs": [
        {
          "output_type": "stream",
          "name": "stdout",
          "text": [
            "Before one-hot-encoding\n",
            "[0 0 0 0 1 1 1 1 1 1]\n",
            "\n",
            "After one-hot-encoding\n",
            "[[1. 0. 0. 0. 0.]\n",
            " [1. 0. 0. 0. 0.]\n",
            " [1. 0. 0. 0. 0.]\n",
            " [1. 0. 0. 0. 0.]\n",
            " [0. 1. 0. 0. 0.]\n",
            " [0. 1. 0. 0. 0.]\n",
            " [0. 1. 0. 0. 0.]\n",
            " [0. 1. 0. 0. 0.]\n",
            " [0. 1. 0. 0. 0.]\n",
            " [0. 1. 0. 0. 0.]]\n"
          ]
        }
      ]
    },
    {
      "cell_type": "code",
      "metadata": {
        "id": "VfwiHRobug4Y",
        "colab": {
          "base_uri": "https://localhost:8080/"
        },
        "outputId": "8d43d8dc-ecea-4cf0-9f9e-62ec7991e266"
      },
      "source": [
        "model = model1()"
      ],
      "execution_count": null,
      "outputs": [
        {
          "output_type": "stream",
          "name": "stderr",
          "text": [
            "WARNING:tensorflow:`input_shape` is undefined or non-square, or `rows` is not in [128, 160, 192, 224]. Weights for input shape (224, 224) will be loaded as the default.\n"
          ]
        },
        {
          "output_type": "stream",
          "name": "stdout",
          "text": [
            "Downloading data from https://storage.googleapis.com/tensorflow/keras-applications/mobilenet/mobilenet_1_0_224_tf_no_top.h5\n",
            "17225924/17225924 [==============================] - 2s 0us/step\n"
          ]
        }
      ]
    },
    {
      "cell_type": "code",
      "metadata": {
        "id": "OkRB8QyAraNt",
        "colab": {
          "base_uri": "https://localhost:8080/"
        },
        "outputId": "9a54d93b-0430-4e59-a46b-2064e8db5a21"
      },
      "source": [
        "history = model.fit(trainData, y_train, epochs=20, batch_size = 128,\n",
        "                    validation_data=(testData, y_test))"
      ],
      "execution_count": null,
      "outputs": [
        {
          "output_type": "stream",
          "name": "stdout",
          "text": [
            "Epoch 1/20\n",
            "26/26 [==============================] - 27s 144ms/step - loss: 0.3793 - acc: 0.8728 - val_loss: 4.9866 - val_acc: 0.1456\n",
            "Epoch 2/20\n",
            "26/26 [==============================] - 2s 59ms/step - loss: 0.0222 - acc: 0.9949 - val_loss: 2.1311 - val_acc: 0.4101\n",
            "Epoch 3/20\n",
            "26/26 [==============================] - 1s 57ms/step - loss: 0.0091 - acc: 0.9973 - val_loss: 2.4103 - val_acc: 0.3447\n",
            "Epoch 4/20\n",
            "26/26 [==============================] - 1s 57ms/step - loss: 0.0103 - acc: 0.9964 - val_loss: 1.7708 - val_acc: 0.3551\n",
            "Epoch 5/20\n",
            "26/26 [==============================] - 2s 60ms/step - loss: 0.0093 - acc: 0.9973 - val_loss: 0.7409 - val_acc: 0.5988\n",
            "Epoch 6/20\n",
            "26/26 [==============================] - 1s 57ms/step - loss: 0.0084 - acc: 0.9982 - val_loss: 0.7895 - val_acc: 0.6211\n",
            "Epoch 7/20\n",
            "26/26 [==============================] - 1s 56ms/step - loss: 0.0171 - acc: 0.9952 - val_loss: 0.2523 - val_acc: 0.9153\n",
            "Epoch 8/20\n",
            "26/26 [==============================] - 1s 58ms/step - loss: 0.0133 - acc: 0.9967 - val_loss: 0.1619 - val_acc: 0.9525\n",
            "Epoch 9/20\n",
            "26/26 [==============================] - 2s 64ms/step - loss: 0.0267 - acc: 0.9952 - val_loss: 2.2242 - val_acc: 0.6374\n",
            "Epoch 10/20\n",
            "26/26 [==============================] - 2s 64ms/step - loss: 0.0101 - acc: 0.9979 - val_loss: 0.2804 - val_acc: 0.9435\n",
            "Epoch 11/20\n",
            "26/26 [==============================] - 2s 62ms/step - loss: 0.0076 - acc: 0.9982 - val_loss: 0.0956 - val_acc: 0.9777\n",
            "Epoch 12/20\n",
            "26/26 [==============================] - 2s 69ms/step - loss: 0.0098 - acc: 0.9979 - val_loss: 0.2466 - val_acc: 0.9287\n",
            "Epoch 13/20\n",
            "26/26 [==============================] - 2s 68ms/step - loss: 0.0161 - acc: 0.9967 - val_loss: 0.0742 - val_acc: 0.9673\n",
            "Epoch 14/20\n",
            "26/26 [==============================] - 2s 62ms/step - loss: 0.0025 - acc: 0.9994 - val_loss: 0.0311 - val_acc: 0.9866\n",
            "Epoch 15/20\n",
            "26/26 [==============================] - 2s 59ms/step - loss: 0.0063 - acc: 0.9988 - val_loss: 0.2293 - val_acc: 0.9554\n",
            "Epoch 16/20\n",
            "26/26 [==============================] - 2s 58ms/step - loss: 0.0028 - acc: 0.9997 - val_loss: 0.2353 - val_acc: 0.9510\n",
            "Epoch 17/20\n",
            "26/26 [==============================] - 2s 63ms/step - loss: 5.1873e-04 - acc: 1.0000 - val_loss: 0.1787 - val_acc: 0.9554\n",
            "Epoch 18/20\n",
            "26/26 [==============================] - 2s 65ms/step - loss: 5.4061e-04 - acc: 1.0000 - val_loss: 0.2278 - val_acc: 0.9525\n",
            "Epoch 19/20\n",
            "26/26 [==============================] - 2s 64ms/step - loss: 0.0012 - acc: 0.9997 - val_loss: 0.1364 - val_acc: 0.9643\n",
            "Epoch 20/20\n",
            "26/26 [==============================] - 2s 59ms/step - loss: 0.0045 - acc: 0.9997 - val_loss: 0.0883 - val_acc: 0.9599\n"
          ]
        }
      ]
    },
    {
      "cell_type": "code",
      "metadata": {
        "id": "avXMKYPgreo_",
        "colab": {
          "base_uri": "https://localhost:8080/",
          "height": 573
        },
        "outputId": "e3fc6934-3809-4df9-ec3d-713651e93880"
      },
      "source": [
        "# Plot training & validation accuracy values\n",
        "plt.plot(history.history['acc'])\n",
        "plt.plot(history.history['val_acc'])\n",
        "plt.title('Model accuracy')\n",
        "plt.ylabel('Accuracy')\n",
        "plt.xlabel('Epoch')\n",
        "plt.legend(['Train', 'Test'], loc='upper left')\n",
        "plt.show()\n",
        "\n",
        "# Plot training & validation loss values\n",
        "plt.plot(history.history['loss'])\n",
        "plt.plot(history.history['val_loss'])\n",
        "plt.title('Model loss')\n",
        "plt.ylabel('Loss')\n",
        "plt.xlabel('Epoch')\n",
        "plt.legend(['Train', 'Test'], loc='upper left')\n",
        "plt.show()"
      ],
      "execution_count": null,
      "outputs": [
        {
          "output_type": "display_data",
          "data": {
            "text/plain": [
              "<Figure size 432x288 with 1 Axes>"
            ],
            "image/png": "[encoded data removed]"
          },
          "metadata": {
            "needs_background": "light"
          }
        },
        {
          "output_type": "display_data",
          "data": {
            "text/plain": [
              "<Figure size 432x288 with 1 Axes>"
            ],
            "image/png": "[encoded data removed]"
          },
          "metadata": {
            "needs_background": "light"
          }
        }
      ]
    },
    {
      "cell_type": "code",
      "metadata": {
        "id": "qPJPE2RkvF1M"
      },
      "source": [
        "model.save('savedModel_12.h5')"
      ],
      "execution_count": null,
      "outputs": []
    },
    {
      "cell_type": "code",
      "metadata": {
        "id": "AXanhKXLvR61"
      },
      "source": [
        "from tensorflow.keras.models import load_model\n",
        "loaded_model = load_model('savedModel_12.h5')"
      ],
      "execution_count": null,
      "outputs": []
    },
    {
      "cell_type": "code",
      "metadata": {
        "id": "qbwPOMA3vljt",
        "colab": {
          "base_uri": "https://localhost:8080/"
        },
        "outputId": "6dd53a2a-7911-4a37-b042-ebf794afca4f"
      },
      "source": [
        "outs = loaded_model.predict(testData[600:601]).argmax(axis=1)"
      ],
      "execution_count": null,
      "outputs": [
        {
          "output_type": "stream",
          "name": "stdout",
          "text": [
            "1/1 [==============================] - 0s 425ms/step\n"
          ]
        }
      ]
    },
    {
      "cell_type": "code",
      "metadata": {
        "id": "JuwGBaMRG6SK",
        "colab": {
          "base_uri": "https://localhost:8080/"
        },
        "outputId": "9fe5dc62-eac5-418e-d5a5-5355612ced05"
      },
      "source": [
        "print(vehicles[outs[0]])"
      ],
      "execution_count": null,
      "outputs": [
        {
          "output_type": "stream",
          "name": "stdout",
          "text": [
            "rickshaw\n"
          ]
        }
      ]
    },
    {
      "cell_type": "code",
      "metadata": {
        "id": "ZhFZTWSQvwiI",
        "colab": {
          "base_uri": "https://localhost:8080/"
        },
        "outputId": "b52abdfb-4158-4689-886c-dd93c1a6de9a"
      },
      "source": [
        "loaded_model.evaluate(testData, y_test)"
      ],
      "execution_count": null,
      "outputs": [
        {
          "output_type": "stream",
          "name": "stdout",
          "text": [
            "22/22 [==============================] - 1s 7ms/step - loss: 0.0883 - acc: 0.9599\n"
          ]
        },
        {
          "output_type": "execute_result",
          "data": {
            "text/plain": [
              "[0.08829882740974426, 0.9598811268806458]"
            ]
          },
          "metadata": {},
          "execution_count": 19
        }
      ]
    }
  ]
}