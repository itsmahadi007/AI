{
  "nbformat": 4,
  "nbformat_minor": 0,
  "metadata": {
    "colab": {
      "name": "image recognition .ipynb",
      "provenance": [],
      "collapsed_sections": [],
      "authorship_tag": "ABX9TyMGoTsX/vSOIpccGCBO6vMk",
      "include_colab_link": true
    },
    "kernelspec": {
      "name": "python3",
      "display_name": "Python 3"
    },
    "accelerator": "GPU"
  },
  "cells": [
    {
      "cell_type": "markdown",
      "metadata": {
        "id": "view-in-github",
        "colab_type": "text"
      },
      "source": [
        "<a href=\"https://colab.research.google.com/github/itsmahadi007/AI/blob/master/image_recognition_thesis_.ipynb\" target=\"_parent\"><img src=\"https://colab.research.google.com/assets/colab-badge.svg\" alt=\"Open In Colab\"/></a>"
      ]
    },
    {
      "cell_type": "markdown",
      "metadata": {
        "id": "VEspAWZ4cnkA",
        "colab_type": "text"
      },
      "source": [
        "Data Pre-processing"
      ]
    },
    {
      "cell_type": "code",
      "metadata": {
        "id": "OxKxqaINXxu5",
        "colab_type": "code",
        "colab": {}
      },
      "source": [
        "%tensorflow_version 2.x\n",
        "import tensorflow\n",
        "import numpy as np\n",
        "import matplotlib.pyplot as plt"
      ],
      "execution_count": 0,
      "outputs": []
    },
    {
      "cell_type": "code",
      "metadata": {
        "id": "VMsN_6sqX81K",
        "colab_type": "code",
        "outputId": "74b41500-114e-447a-b85d-6e71f43069ec",
        "colab": {
          "base_uri": "https://localhost:8080/",
          "height": 34
        }
      },
      "source": [
        "'getting access to drive'\n",
        "from google.colab import drive\n",
        "drive.mount(\"/content/drive\")"
      ],
      "execution_count": 0,
      "outputs": [
        {
          "output_type": "stream",
          "text": [
            "Drive already mounted at /content/drive; to attempt to forcibly remount, call drive.mount(\"/content/drive\", force_remount=True).\n"
          ],
          "name": "stdout"
        }
      ]
    },
    {
      "cell_type": "code",
      "metadata": {
        "id": "_4oA7XV3YTSp",
        "colab_type": "code",
        "outputId": "5dc0f2c1-1a0f-4f3a-cd20-1b24e7dd2fa0",
        "colab": {
          "base_uri": "https://localhost:8080/",
          "height": 34
        }
      },
      "source": [
        "'Extracting data'\n",
        "!unzip -qq '/content/drive/My Drive/Colab Notebooks/Datasets/DataSet.zip'"
      ],
      "execution_count": 0,
      "outputs": [
        {
          "output_type": "stream",
          "text": [
            "replace DataSet/Classification/Side/Test/bus/test1107.jpg? [y]es, [n]o, [A]ll, [N]one, [r]ename: N\n"
          ],
          "name": "stdout"
        }
      ]
    },
    {
      "cell_type": "code",
      "metadata": {
        "id": "kpZUyRx9Y6dq",
        "colab_type": "code",
        "outputId": "dce4a3e0-6e83-4b67-c0a7-8ab5ae982200",
        "colab": {
          "base_uri": "https://localhost:8080/",
          "height": 52
        }
      },
      "source": [
        "from PIL import Image\n",
        "from pathlib import Path\n",
        "'Variables for train data'\n",
        "trainData = []\n",
        "train_y = []\n",
        "\n",
        "'Variables for test data'\n",
        "testData = []\n",
        "test_y = []\n",
        "\n",
        "'For lebel taking there name'\n",
        "vehicles = ['bus', 'car', 'cng', 'rickshaw']\n",
        "\n",
        "'Getting all the data from the data set'\n",
        "for target, vehicle in enumerate(vehicles):\n",
        "    for path in Path('/content/DataSet/Classification/Side/Train/%s' %(vehicle)).rglob('*.jpg'):\n",
        "        image = np.array(Image.open(path).resize((60, 60))) #geting all the image from that dir and converting them into 60 / 60 image . i reshape it after seeing the minimum size from the image below.\n",
        "        train_y.append(target)\n",
        "        trainData.append(image)\n",
        "\n",
        "    for path in Path('/content/DataSet/Classification/Side/Test/%s' %(vehicle)).rglob('*.jpg'):\n",
        "        image = np.array(Image.open(path).resize((60, 60)))\n",
        "        test_y.append(target)\n",
        "        testData.append(image)\n",
        "\n",
        "    for path in Path('/content/DataSet/Classification/Top/Train/%s' %(vehicle)).rglob('*.jpg'):\n",
        "        image = np.array(Image.open(path).resize((60, 60)))\n",
        "        train_y.append(target)\n",
        "        trainData.append(image)\n",
        "\n",
        "    for path in Path('/content/DataSet/Classification/Top/Test/%s' %(vehicle)).rglob('*.jpg'):\n",
        "        image = np.array(Image.open(path).resize((60, 60)))\n",
        "        test_y.append(target)\n",
        "        testData.append(image)\n",
        "\n",
        "'Converting array into numpy array because transorflow only aceept numpy array and tensor file'\n",
        "trainData = np.array(trainData)\n",
        "testData = np.array(testData)\n",
        "train_y = np.array(train_y)\n",
        "test_y = np.array(test_y)\n",
        "\n",
        "print('Number of train data', len(trainData))\n",
        "print('Number of test data', len(testData))"
      ],
      "execution_count": 0,
      "outputs": [
        {
          "output_type": "stream",
          "text": [
            "Number of train data 2521\n",
            "Number of test data 356\n"
          ],
          "name": "stdout"
        }
      ]
    },
    {
      "cell_type": "code",
      "metadata": {
        "id": "Eu_q8ne_ZkLK",
        "colab_type": "code",
        "outputId": "a2afdc00-671b-41d1-f7f0-7ebcf7b98ba1",
        "colab": {
          "base_uri": "https://localhost:8080/",
          "height": 285
        }
      },
      "source": [
        "'Vewing any image as i choose to see'\n",
        "plt.imshow(trainData[800])"
      ],
      "execution_count": 0,
      "outputs": [
        {
          "output_type": "execute_result",
          "data": {
            "text/plain": [
              "<matplotlib.image.AxesImage at 0x7fe62b9b44e0>"
            ]
          },
          "metadata": {
            "tags": []
          },
          "execution_count": 134
        },
        {
          "output_type": "display_data",
          "data": {
            "image/png": "[encoded data removed]",
            "text/plain": [
              "<Figure size 432x288 with 1 Axes>"
            ]
          },
          "metadata": {
            "tags": []
          }
        }
      ]
    },
    {
      "cell_type": "code",
      "metadata": {
        "colab_type": "code",
        "outputId": "ac54e738-9296-435e-827b-12a43b869aa6",
        "id": "5uZ-uhsUcNqo",
        "colab": {
          "base_uri": "https://localhost:8080/",
          "height": 34
        }
      },
      "source": [
        "\"\"\"\n",
        "'Checking the minimum image size'\n",
        "minr, minc = np.inf, np.inf\n",
        "\n",
        "for img in trainData:\n",
        "    minr = min(minr, img.shape[0])\n",
        "    minc = min(minc, img.shape[1])\n",
        "\n",
        "print(minr, minc)\"\"\""
      ],
      "execution_count": 0,
      "outputs": [
        {
          "output_type": "stream",
          "text": [
            "60 60\n"
          ],
          "name": "stdout"
        }
      ]
    },
    {
      "cell_type": "code",
      "metadata": {
        "id": "3_NC-jpBbTRx",
        "colab_type": "code",
        "outputId": "3b4b2e6b-b1da-4793-a1dc-6bebb4a0ebab",
        "colab": {
          "base_uri": "https://localhost:8080/",
          "height": 34
        }
      },
      "source": [
        "print(trainData[0].shape)"
      ],
      "execution_count": 0,
      "outputs": [
        {
          "output_type": "stream",
          "text": [
            "(60, 60, 3)\n"
          ],
          "name": "stdout"
        }
      ]
    },
    {
      "cell_type": "markdown",
      "metadata": {
        "id": "TpHecEKZctc_",
        "colab_type": "text"
      },
      "source": [
        "Building Keras Model\n",
        "\n",
        "![alt text](https://www.researchgate.net/profile/Maher_Al-Zuhairi/publication/325115367/figure/fig1/AS:631428412878849@1527555673821/The-typical-CNN-model-architecture.png)\n",
        "\n",
        "We will use famous image classification architectures given in the [link](https://keras.io/applications/)\n",
        "\n"
      ]
    },
    {
      "cell_type": "code",
      "metadata": {
        "id": "00Ct4IehcWVe",
        "colab_type": "code",
        "colab": {}
      },
      "source": [
        "from tensorflow.keras.applications.mobilenet import MobileNet\n",
        "from tensorflow.keras import Sequential\n",
        "from tensorflow.keras.layers import Dense, Flatten\n",
        "\n",
        "def model1():\n",
        "    'Creating a Sequential model'\n",
        "    model = Sequential()\n",
        "\n",
        "    'Adding MobileNet V1 layers'\n",
        "    model.add(MobileNet(input_shape=(60, 60, 3), include_top=False))\n",
        "\n",
        "    'Flat the image'\n",
        "    model.add(Flatten())\n",
        "\n",
        "    'Adding Dense layer'\n",
        "    model.add(Dense(128, activation='relu'))\n",
        "    model.add(Dense(64, activation='relu'))\n",
        "    model.add(Dense(32, activation='relu'))\n",
        "\n",
        "    'Adding SoftMax layer'\n",
        "    model.add(Dense(4, activation='softmax'))\n",
        "\n",
        "    model.compile(optimizer='adam',\n",
        "              loss='categorical_crossentropy',\n",
        "              metrics=['acc'])\n",
        "    \n",
        "    return model"
      ],
      "execution_count": 0,
      "outputs": []
    },
    {
      "cell_type": "code",
      "metadata": {
        "id": "cLycJ_FIjRqL",
        "colab_type": "code",
        "colab": {}
      },
      "source": [
        "from tensorflow.keras.utils import to_categorical\n",
        "\n",
        "y_train = to_categorical(train_y)\n",
        "y_test = to_categorical(test_y)"
      ],
      "execution_count": 0,
      "outputs": []
    },
    {
      "cell_type": "markdown",
      "metadata": {
        "id": "XLulWcydtt8H",
        "colab_type": "text"
      },
      "source": [
        "One Hot Encoding\n",
        "\n",
        "![alt text](https://www.researchgate.net/profile/Jose_Padarian/publication/334507958/figure/fig1/AS:781537293377537@1563344419499/Example-of-two-encodings-of-the-phrase-red-sticky-clay-numerical-encoding-and-one-hot.ppm)"
      ]
    },
    {
      "cell_type": "code",
      "metadata": {
        "id": "u-sJrwGns96W",
        "colab_type": "code",
        "outputId": "575a252f-d2e9-4755-9c76-8dde69021e1d",
        "colab": {
          "base_uri": "https://localhost:8080/",
          "height": 265
        }
      },
      "source": [
        "print('Before one-hot-encoding')\n",
        "print(train_y[0:10], end='\\n\\n')\n",
        "\n",
        "print('After one-hot-encoding')\n",
        "print(y_train[0:10])"
      ],
      "execution_count": 0,
      "outputs": [
        {
          "output_type": "stream",
          "text": [
            "Before one-hot-encoding\n",
            "[0 0 0 0 0 0 0 0 0 0]\n",
            "\n",
            "After one-hot-encoding\n",
            "[[1. 0. 0. 0.]\n",
            " [1. 0. 0. 0.]\n",
            " [1. 0. 0. 0.]\n",
            " [1. 0. 0. 0.]\n",
            " [1. 0. 0. 0.]\n",
            " [1. 0. 0. 0.]\n",
            " [1. 0. 0. 0.]\n",
            " [1. 0. 0. 0.]\n",
            " [1. 0. 0. 0.]\n",
            " [1. 0. 0. 0.]]\n"
          ],
          "name": "stdout"
        }
      ]
    },
    {
      "cell_type": "code",
      "metadata": {
        "id": "VfwiHRobug4Y",
        "colab_type": "code",
        "outputId": "b6a928c1-d083-4d1d-b8ad-f062b04e15b8",
        "colab": {
          "base_uri": "https://localhost:8080/",
          "height": 72
        }
      },
      "source": [
        "model = model1()"
      ],
      "execution_count": 0,
      "outputs": [
        {
          "output_type": "stream",
          "text": [
            "/tensorflow-2.1.0/python3.6/keras_applications/mobilenet.py:207: UserWarning: `input_shape` is undefined or non-square, or `rows` is not in [128, 160, 192, 224]. Weights for input shape (224, 224) will be loaded as the default.\n",
            "  warnings.warn('`input_shape` is undefined or non-square, '\n"
          ],
          "name": "stderr"
        }
      ]
    },
    {
      "cell_type": "code",
      "metadata": {
        "id": "OkRB8QyAraNt",
        "colab_type": "code",
        "outputId": "e7b85dcc-2937-429f-c953-147a111f6635",
        "colab": {
          "base_uri": "https://localhost:8080/",
          "height": 745
        }
      },
      "source": [
        "history = model.fit(trainData, y_train, epochs=20, \n",
        "          batch_size = 64, validation_data = (testData, y_test))"
      ],
      "execution_count": 0,
      "outputs": [
        {
          "output_type": "stream",
          "text": [
            "Train on 2521 samples, validate on 356 samples\n",
            "Epoch 1/20\n",
            "2521/2521 [==============================] - 4s 2ms/sample - loss: 0.3240 - acc: 0.8774 - val_loss: 6.3969 - val_acc: 0.2837\n",
            "Epoch 2/20\n",
            "2521/2521 [==============================] - 1s 540us/sample - loss: 0.0584 - acc: 0.9821 - val_loss: 1.4106 - val_acc: 0.5983\n",
            "Epoch 3/20\n",
            "2521/2521 [==============================] - 1s 534us/sample - loss: 0.0450 - acc: 0.9869 - val_loss: 1.2186 - val_acc: 0.6910\n",
            "Epoch 4/20\n",
            "2521/2521 [==============================] - 1s 545us/sample - loss: 0.0329 - acc: 0.9917 - val_loss: 0.5042 - val_acc: 0.8483\n",
            "Epoch 5/20\n",
            "2521/2521 [==============================] - 1s 539us/sample - loss: 0.0405 - acc: 0.9901 - val_loss: 0.1665 - val_acc: 0.9298\n",
            "Epoch 6/20\n",
            "2521/2521 [==============================] - 1s 548us/sample - loss: 0.0188 - acc: 0.9960 - val_loss: 0.0427 - val_acc: 0.9888\n",
            "Epoch 7/20\n",
            "2521/2521 [==============================] - 1s 535us/sample - loss: 0.0184 - acc: 0.9940 - val_loss: 0.0140 - val_acc: 0.9972\n",
            "Epoch 8/20\n",
            "2521/2521 [==============================] - 1s 537us/sample - loss: 0.0169 - acc: 0.9948 - val_loss: 0.1349 - val_acc: 0.9551\n",
            "Epoch 9/20\n",
            "2521/2521 [==============================] - 1s 542us/sample - loss: 0.0305 - acc: 0.9893 - val_loss: 0.0288 - val_acc: 0.9860\n",
            "Epoch 10/20\n",
            "2521/2521 [==============================] - 1s 537us/sample - loss: 0.0149 - acc: 0.9944 - val_loss: 0.1231 - val_acc: 0.9831\n",
            "Epoch 11/20\n",
            "2521/2521 [==============================] - 1s 536us/sample - loss: 0.0312 - acc: 0.9948 - val_loss: 0.4142 - val_acc: 0.9185\n",
            "Epoch 12/20\n",
            "2521/2521 [==============================] - 1s 539us/sample - loss: 0.0126 - acc: 0.9956 - val_loss: 1.6347 - val_acc: 0.7753\n",
            "Epoch 13/20\n",
            "2521/2521 [==============================] - 1s 545us/sample - loss: 0.0225 - acc: 0.9937 - val_loss: 0.6070 - val_acc: 0.8792\n",
            "Epoch 14/20\n",
            "2521/2521 [==============================] - 1s 543us/sample - loss: 0.0127 - acc: 0.9960 - val_loss: 0.6266 - val_acc: 0.8624\n",
            "Epoch 15/20\n",
            "2521/2521 [==============================] - 1s 534us/sample - loss: 0.0109 - acc: 0.9980 - val_loss: 0.0716 - val_acc: 0.9775\n",
            "Epoch 16/20\n",
            "2521/2521 [==============================] - 1s 543us/sample - loss: 0.0175 - acc: 0.9956 - val_loss: 0.0343 - val_acc: 0.9888\n",
            "Epoch 17/20\n",
            "2521/2521 [==============================] - 1s 542us/sample - loss: 0.0057 - acc: 0.9992 - val_loss: 0.0039 - val_acc: 1.0000\n",
            "Epoch 18/20\n",
            "2521/2521 [==============================] - 1s 542us/sample - loss: 0.0056 - acc: 0.9996 - val_loss: 0.0084 - val_acc: 0.9972\n",
            "Epoch 19/20\n",
            "2521/2521 [==============================] - 1s 533us/sample - loss: 0.0103 - acc: 0.9956 - val_loss: 0.0657 - val_acc: 0.9803\n",
            "Epoch 20/20\n",
            "2521/2521 [==============================] - 1s 552us/sample - loss: 0.0235 - acc: 0.9921 - val_loss: 0.0482 - val_acc: 0.9860\n"
          ],
          "name": "stdout"
        }
      ]
    },
    {
      "cell_type": "code",
      "metadata": {
        "id": "avXMKYPgreo_",
        "colab_type": "code",
        "outputId": "9f8b5e63-f3ec-4618-9b77-35a8883aa8cc",
        "colab": {
          "base_uri": "https://localhost:8080/",
          "height": 573
        }
      },
      "source": [
        "# Plot training & validation accuracy values\n",
        "plt.plot(history.history['acc'])\n",
        "plt.plot(history.history['val_acc'])\n",
        "plt.title('Model accuracy')\n",
        "plt.ylabel('Accuracy')\n",
        "plt.xlabel('Epoch')\n",
        "plt.legend(['Train', 'Test'], loc='upper left')\n",
        "plt.show()\n",
        "\n",
        "# Plot training & validation loss values\n",
        "plt.plot(history.history['loss'])\n",
        "plt.plot(history.history['val_loss'])\n",
        "plt.title('Model loss')\n",
        "plt.ylabel('Loss')\n",
        "plt.xlabel('Epoch')\n",
        "plt.legend(['Train', 'Test'], loc='upper left')\n",
        "plt.show()"
      ],
      "execution_count": 0,
      "outputs": [
        {
          "output_type": "display_data",
          "data": {
            "image/png": "[encoded data removed]",
            "text/plain": [
              "<Figure size 432x288 with 1 Axes>"
            ]
          },
          "metadata": {
            "tags": []
          }
        },
        {
          "output_type": "display_data",
          "data": {
            "image/png": "[encoded data removed]",
            "text/plain": [
              "<Figure size 432x288 with 1 Axes>"
            ]
          },
          "metadata": {
            "tags": []
          }
        }
      ]
    },
    {
      "cell_type": "code",
      "metadata": {
        "id": "qPJPE2RkvF1M",
        "colab_type": "code",
        "colab": {}
      },
      "source": [
        "model.save('savedModel.h5')"
      ],
      "execution_count": 0,
      "outputs": []
    },
    {
      "cell_type": "code",
      "metadata": {
        "id": "AXanhKXLvR61",
        "colab_type": "code",
        "colab": {}
      },
      "source": [
        "from tensorflow.keras.models import load_model\n",
        "loaded_model = load_model('savedModel.h5')"
      ],
      "execution_count": 0,
      "outputs": []
    },
    {
      "cell_type": "code",
      "metadata": {
        "id": "qbwPOMA3vljt",
        "colab_type": "code",
        "outputId": "8e52ba78-5a9d-4373-9f12-4ba16880a15d",
        "colab": {
          "base_uri": "https://localhost:8080/",
          "height": 52
        }
      },
      "source": [
        "loaded_model.predict(testData[120:150]).argmax(axis=1)"
      ],
      "execution_count": 0,
      "outputs": [
        {
          "output_type": "execute_result",
          "data": {
            "text/plain": [
              "array([1, 1, 1, 1, 1, 1, 1, 1, 1, 1, 1, 1, 1, 1, 1, 1, 0, 1, 1, 1, 1, 1,\n",
              "       1, 1, 1, 1, 1, 0, 0, 1])"
            ]
          },
          "metadata": {
            "tags": []
          },
          "execution_count": 129
        }
      ]
    },
    {
      "cell_type": "code",
      "metadata": {
        "id": "ZhFZTWSQvwiI",
        "colab_type": "code",
        "outputId": "2e8c3f0b-3505-4dec-9e7a-160a1148e5b0",
        "colab": {
          "base_uri": "https://localhost:8080/",
          "height": 52
        }
      },
      "source": [
        "loaded_model.evaluate(testData, y_test)"
      ],
      "execution_count": 0,
      "outputs": [
        {
          "output_type": "stream",
          "text": [
            "356/356 [==============================] - 1s 3ms/sample - loss: 0.0482 - acc: 0.9860\n"
          ],
          "name": "stdout"
        },
        {
          "output_type": "execute_result",
          "data": {
            "text/plain": [
              "[0.04820961465636079, 0.98595506]"
            ]
          },
          "metadata": {
            "tags": []
          },
          "execution_count": 123
        }
      ]
    }
  ]
}